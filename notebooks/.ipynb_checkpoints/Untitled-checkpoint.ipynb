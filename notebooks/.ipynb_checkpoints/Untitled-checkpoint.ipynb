{
 "cells": [
  {
   "cell_type": "code",
   "execution_count": 1,
   "metadata": {},
   "outputs": [],
   "source": [
    "import mne\n",
    "import os\n",
    "import numpy as np\n",
    "import fnmatch\n",
    "from fooof import FOOOFGroup\n",
    "from fooof.analysis import *\n",
    "#from autoreject import LocalAutoRejectCV\n",
    "from pathlib import Path"
   ]
  },
  {
   "cell_type": "code",
   "execution_count": 2,
   "metadata": {},
   "outputs": [],
   "source": [
    "# Set up paths\n",
    "# This results and analysis path will need updating\n",
    "rest_results_path = 'D:\\\\abc\\\\Documents\\\\Research\\\\Results\\\\Rest_Results'\n",
    "trial_results_path = 'D:\\\\abc\\\\Documents\\\\Research\\\\Results\\\\Trial_Results'\n",
    "\n",
    "# DATASET properties\n",
    "# Properties of PBA Dataset\n",
    "subj_dat_num_PBA =list(range(3001, 3015))\n",
    "num_of_rest_blocks_PBA = 1\n",
    "num_of_trial_blocks_PBA = 12\n",
    "num_of_total_blocks_PBA = 13"
   ]
  },
  {
   "cell_type": "code",
   "execution_count": 6,
   "metadata": {},
   "outputs": [
    {
     "ename": "SyntaxError",
     "evalue": "unexpected EOF while parsing (<ipython-input-6-ff22a0c9d4a2>, line 3)",
     "output_type": "error",
     "traceback": [
      "\u001b[1;36m  File \u001b[1;32m\"<ipython-input-6-ff22a0c9d4a2>\"\u001b[1;36m, line \u001b[1;32m3\u001b[0m\n\u001b[1;33m    \u001b[0m\n\u001b[1;37m    ^\u001b[0m\n\u001b[1;31mSyntaxError\u001b[0m\u001b[1;31m:\u001b[0m unexpected EOF while parsing\n"
     ]
    }
   ],
   "source": [
    "for sub_index, sub_num in enumerate(subj_dat_num_PBA):\n",
    "    print('Current Subject Results: ' + str(sub_num)\n",
    "    for block in range(0,num_of_total_blocks_PBA):\n",
    "          subj_file = str(sub_num) + \"fooof_group_results\" + str(block)\n",
    "          print (subj_file)"
   ]
  },
  {
   "cell_type": "code",
   "execution_count": null,
   "metadata": {},
   "outputs": [],
   "source": [
    "for block in range(0,num_of_total_blocks_PBA):\n",
    "          subj_file = str(sub_num) + \"fooof_group_results\" + str(block)\n",
    "          print (subj_file)"
   ]
  }
 ],
 "metadata": {
  "kernelspec": {
   "display_name": "Python 3",
   "language": "python",
   "name": "python3"
  },
  "language_info": {
   "codemirror_mode": {
    "name": "ipython",
    "version": 3
   },
   "file_extension": ".py",
   "mimetype": "text/x-python",
   "name": "python",
   "nbconvert_exporter": "python",
   "pygments_lexer": "ipython3",
   "version": "3.6.4"
  }
 },
 "nbformat": 4,
 "nbformat_minor": 2
}
