{
 "cells": [
  {
   "cell_type": "code",
   "execution_count": null,
   "metadata": {},
   "outputs": [],
   "source": [
    "# Imports\n",
    "#%matplotlib qt\n",
    "%matplotlib inline\n",
    "\n",
    "import matplotlib.pyplot as plt\n",
    "import mne\n",
    "import os\n",
    "import numpy as np\n",
    "from scipy.stats import pearsonr\n",
    "from matplotlib import cm\n",
    "import scipy\n",
    "\n",
    "from fooof import FOOOF\n",
    "from fooof import FOOOFGroup"
   ]
  },
  {
   "cell_type": "code",
   "execution_count": null,
   "metadata": {},
   "outputs": [],
   "source": [
    "fg = FOOOFGroup()\n",
    "fg.save?"
   ]
  },
  {
   "cell_type": "code",
   "execution_count": null,
   "metadata": {},
   "outputs": [],
   "source": [
    "import sys"
   ]
  },
  {
   "cell_type": "code",
   "execution_count": null,
   "metadata": {},
   "outputs": [],
   "source": [
    "sys.path"
   ]
  },
  {
   "cell_type": "code",
   "execution_count": null,
   "metadata": {},
   "outputs": [],
   "source": [
    "# Set up paths\n",
    "\n",
    "# This base path will need updating\n",
    "base_path = '/Users/luyandamdanda/Documents/Research/EEG_Dat'\n",
    "\n",
    "# These should stay the same\n",
    "#subj_dat_fname = '._3502_resampled.set'\n",
    "subj_dat_fname = '3503_resampled.set'"
   ]
  },
  {
   "cell_type": "code",
   "execution_count": null,
   "metadata": {
    "scrolled": true
   },
   "outputs": [],
   "source": [
    "# Read in subject listed above\n",
    "\n",
    "ev_dict = {'Start Block': 1001., 'End Block': 1002., 'Start Labelling Block':1003., 'End Labelling Block':1004}\n",
    "# event dictionary to ensure \"Start Block\" and \"End Block\"\n",
    "\n",
    "full_path = os.path.join(base_path, subj_dat_fname)\n",
    "eeg_dat = mne.io.read_raw_eeglab(full_path, event_id=ev_dict)"
   ]
  },
  {
   "cell_type": "code",
   "execution_count": null,
   "metadata": {},
   "outputs": [],
   "source": [
    "eeg_dat.info"
   ]
  },
  {
   "cell_type": "code",
   "execution_count": null,
   "metadata": {
    "scrolled": false
   },
   "outputs": [],
   "source": [
    "eeg_dat.set_eeg_reference()\n",
    "# set EEG average reference"
   ]
  },
  {
   "cell_type": "code",
   "execution_count": null,
   "metadata": {
    "scrolled": false
   },
   "outputs": [],
   "source": [
    "eeg_dat.plot();"
   ]
  },
  {
   "cell_type": "code",
   "execution_count": null,
   "metadata": {
    "scrolled": true
   },
   "outputs": [],
   "source": [
    "# identifying all the events and IDs\n",
    "mne.find_events(eeg_dat);"
   ]
  },
  {
   "cell_type": "code",
   "execution_count": null,
   "metadata": {},
   "outputs": [],
   "source": [
    "events = mne.find_events(eeg_dat)\n",
    "event_id = {'Start Labelling Block':1003}\n",
    "\n",
    "epochs = mne.Epochs(eeg_dat, events=events, event_id=event_id)"
   ]
  },
  {
   "cell_type": "code",
   "execution_count": null,
   "metadata": {
    "scrolled": false
   },
   "outputs": [],
   "source": [
    "epochs.plot();"
   ]
  },
  {
   "cell_type": "markdown",
   "metadata": {
    "collapsed": true
   },
   "source": [
    "# Marking bad channels\n",
    "### Based on visualization.\n"
   ]
  },
  {
   "cell_type": "code",
   "execution_count": null,
   "metadata": {},
   "outputs": [],
   "source": [
    "eeg_dat.info['bads'] = ['TP9']"
   ]
  },
  {
   "cell_type": "code",
   "execution_count": null,
   "metadata": {
    "scrolled": false
   },
   "outputs": [],
   "source": [
    "print('Bad channels: ', eeg_dat.info['bads'])"
   ]
  },
  {
   "cell_type": "code",
   "execution_count": null,
   "metadata": {},
   "outputs": [],
   "source": [
    "events = mne.find_events(eeg_dat)\n",
    "print('Found %s events.')\n",
    "print()\n",
    "\n",
    "# Plot the events to get an idea of the paradigm\n",
    "# Specify colors and an event_id dictionary for the legend.\n",
    "# Plotting only Start and Rest Block events\n",
    "event_id = {'Start Labelling Block':1003}\n",
    "color = {1003:'red'}\n",
    "\n",
    "mne.viz.plot_events(events, eeg_dat.info['sfreq'], eeg_dat.first_samp, color=color,\n",
    "                    event_id=event_id);"
   ]
  },
  {
   "cell_type": "markdown",
   "metadata": {},
   "source": [
    "# Marking bad moments\n",
    "### Identifying bad moments based on visualization"
   ]
  },
  {
   "cell_type": "code",
   "execution_count": null,
   "metadata": {},
   "outputs": [],
   "source": [
    "# Not to critical for this data"
   ]
  },
  {
   "cell_type": "code",
   "execution_count": null,
   "metadata": {},
   "outputs": [],
   "source": [
    "epochs = mne.Epochs(eeg_dat, events=events, event_id=event_id, tmin = 5, tmax = 125,\n",
    "                    baseline = None)"
   ]
  },
  {
   "cell_type": "code",
   "execution_count": null,
   "metadata": {},
   "outputs": [],
   "source": [
    "chs = mne.channels.read_montage('standard_1020', epochs.ch_names[:-1])\n",
    "epochs.set_montage(chs)"
   ]
  },
  {
   "cell_type": "code",
   "execution_count": null,
   "metadata": {
    "scrolled": false
   },
   "outputs": [],
   "source": [
    "epochs.drop_bad()"
   ]
  },
  {
   "cell_type": "code",
   "execution_count": null,
   "metadata": {},
   "outputs": [],
   "source": [
    "epochs.plot();"
   ]
  },
  {
   "cell_type": "code",
   "execution_count": null,
   "metadata": {
    "scrolled": false
   },
   "outputs": [],
   "source": [
    "#epochs.plot_psd(fmin = 0.5, fmax = 40);"
   ]
  },
  {
   "cell_type": "code",
   "execution_count": null,
   "metadata": {},
   "outputs": [],
   "source": [
    "# Calculate PSDs\n",
    "psds, freqs = mne.time_frequency.psd_welch(epochs, fmin=3., fmax=40., n_fft=500)\n",
    "\n",
    "# Average PSDs for each channel across each rest block\n",
    "avg_psds = np.mean(psds, axis=0)"
   ]
  },
  {
   "cell_type": "code",
   "execution_count": null,
   "metadata": {},
   "outputs": [],
   "source": [
    "avg_psds.shape"
   ]
  },
  {
   "cell_type": "code",
   "execution_count": null,
   "metadata": {
    "scrolled": true
   },
   "outputs": [],
   "source": [
    "freqs.shape"
   ]
  },
  {
   "cell_type": "code",
   "execution_count": null,
   "metadata": {
    "scrolled": true
   },
   "outputs": [],
   "source": [
    "psds.shape"
   ]
  },
  {
   "cell_type": "code",
   "execution_count": null,
   "metadata": {},
   "outputs": [],
   "source": [
    "# Get freq res of PSD\n",
    "f_res = np.mean(np.diff(freqs))"
   ]
  },
  {
   "cell_type": "code",
   "execution_count": null,
   "metadata": {},
   "outputs": [],
   "source": [
    "plt.plot(freqs, np.log10(psds[0, 30, :]))\n",
    "# The 1st PSD"
   ]
  },
  {
   "cell_type": "code",
   "execution_count": null,
   "metadata": {},
   "outputs": [],
   "source": [
    "plt.plot(freqs, np.log10(psds[1, 30, :]))\n",
    "# The 2nd PSD"
   ]
  },
  {
   "cell_type": "markdown",
   "metadata": {
    "collapsed": true
   },
   "source": [
    "# FOOOFing Data"
   ]
  },
  {
   "cell_type": "code",
   "execution_count": null,
   "metadata": {},
   "outputs": [],
   "source": [
    "fooof_psds = np.squeeze(psds[0,:,:])"
   ]
  },
  {
   "cell_type": "code",
   "execution_count": null,
   "metadata": {},
   "outputs": [],
   "source": [
    "fooof_psds.shape"
   ]
  },
  {
   "cell_type": "code",
   "execution_count": null,
   "metadata": {
    "scrolled": false
   },
   "outputs": [],
   "source": [
    "# Initialzing FOOOF model\n",
    "fm = FOOOF()\n",
    "\n",
    "# Setting frequency range\n",
    "freq_range = [2, 40]\n",
    "\n",
    "fm.model(freqs, fooof_psds[22 , :], freq_range)"
   ]
  },
  {
   "cell_type": "code",
   "execution_count": null,
   "metadata": {},
   "outputs": [],
   "source": [
    "# Run FOOOF across a group of PSDs\n",
    "fg = FOOOFGroup(verbose=False)\n",
    "fg.fit_group(freqs, fooof_psds, freq_range)"
   ]
  },
  {
   "cell_type": "code",
   "execution_count": null,
   "metadata": {},
   "outputs": [],
   "source": [
    "fg.plot()"
   ]
  },
  {
   "cell_type": "code",
   "execution_count": null,
   "metadata": {},
   "outputs": [],
   "source": [
    "sls = fg.get_all_dat('background_params', 1)"
   ]
  },
  {
   "cell_type": "code",
   "execution_count": null,
   "metadata": {
    "scrolled": true
   },
   "outputs": [],
   "source": [
    "sls"
   ]
  },
  {
   "cell_type": "code",
   "execution_count": null,
   "metadata": {},
   "outputs": [],
   "source": [
    "sls.shape"
   ]
  },
  {
   "cell_type": "code",
   "execution_count": null,
   "metadata": {},
   "outputs": [],
   "source": [
    "# Get all osc data. Loses channel information. NO good. \n",
    "osc_dat = fg.get_all_dat('oscillations_params')\n",
    "osc_dat.shape"
   ]
  },
  {
   "cell_type": "code",
   "execution_count": null,
   "metadata": {},
   "outputs": [],
   "source": [
    "n_channels, n_freq = fooof_psds.shape"
   ]
  },
  {
   "cell_type": "code",
   "execution_count": null,
   "metadata": {},
   "outputs": [],
   "source": [
    "n_channels"
   ]
  },
  {
   "cell_type": "code",
   "execution_count": null,
   "metadata": {
    "scrolled": true
   },
   "outputs": [],
   "source": [
    "fooof_results = np.zeros(shape = [n_channels,3])"
   ]
  },
  {
   "cell_type": "code",
   "execution_count": null,
   "metadata": {},
   "outputs": [],
   "source": [
    "# NOTE:\n",
    "def get_band_osc(osc_params, band_def, ret_one=True):\n",
    "    \"\"\"Searches for a given band of interest within a list of oscillation\n",
    "    \n",
    "    Parameters\n",
    "    ----------\n",
    "    osc_params : 2d array\n",
    "        Oscillations parameters, from FOOOF. [n_oscs, 3] \n",
    "    band_def : [float, float]\n",
    "        Defines the band of interest\n",
    "    ret_one : bool\n",
    "        Whether to return single oscillation (or all found)\n",
    "        \n",
    "    Return\n",
    "    ---------\n",
    "    osc_out : array\n",
    "        Osc data, form - (centers, powers, bws, # oscillations).  \n",
    "    \"\"\"\n",
    "    \n",
    "    # Catch & return if empty\n",
    "    if not np.all(osc_params):\n",
    "        return [np.nan, np.nan, np.nan]\n",
    "    \n",
    "    # Find indices of oscillations in the specified range\n",
    "    osc_inds = (osc_params[:, 0] >= band_def[0]) & (osc_params[:, 0] <= band_def[1])\n",
    "    \n",
    "    # Gets the number of oscillations within the specified range\n",
    "    n_oscs = sum(osc_inds)\n",
    "    \n",
    "    # If there are no \n",
    "    if n_oscs == 0:\n",
    "        return np.array([np.nan, np.nan, np.nan])\n",
    "    \n",
    "    band_oscs = osc_params[osc_inds, :]\n",
    "\n",
    "    # If results > 1 and ret_one, then we return the highest power oscillation\n",
    "    #    Call a sub-function to select highest power oscillation\n",
    "    #.   Note: see omegamappin/om/meg/single.py - _get_single_osc_power function. \n",
    "    if n_oscs > 1 and ret_one:\n",
    "        # Get highest power oscillation in band\n",
    "        band_oscs = get_highest_power_osc(band_oscs)\n",
    "    \n",
    "    # If results == 1, return osc - [cen, power, bw]\n",
    "    return np.squeeze(band_oscs)\n"
   ]
  },
  {
   "cell_type": "code",
   "execution_count": null,
   "metadata": {},
   "outputs": [],
   "source": [
    "def get_highest_power_osc(band_oscs):\n",
    "    \"\"\"Searches for the highest power oscillation within a band of interest\n",
    "    \n",
    "    Parameters\n",
    "    ----------\n",
    "    osc_params : 2d array\n",
    "        Oscillations parameters, from FOOOF. [n_oscs, 3] \n",
    "        \n",
    "    Return\n",
    "    ---------\n",
    "    band_oscs : array\n",
    "        Osc data, form - (centers, powers, bws, # oscillations).  \n",
    "    \"\"\"\n",
    "    \n",
    "    # Catch & return if empty\n",
    "    if not np.all(band_oscs):\n",
    "        return [np.nan, np.nan, np.nan]\n",
    "    \n",
    "    high_ind = np.argmax(band_oscs[:, 1])\n",
    "    return band_oscs[high_ind, :]"
   ]
  },
  {
   "cell_type": "code",
   "execution_count": null,
   "metadata": {},
   "outputs": [],
   "source": [
    "fg.group_results[6].oscillations_params"
   ]
  },
  {
   "cell_type": "code",
   "execution_count": null,
   "metadata": {},
   "outputs": [],
   "source": [
    "get_band_osc(fg.group_results[6].oscillations_params,[10,12])"
   ]
  },
  {
   "cell_type": "code",
   "execution_count": null,
   "metadata": {},
   "outputs": [],
   "source": [
    "np.array([[1,2],[3,4]])"
   ]
  },
  {
   "cell_type": "code",
   "execution_count": null,
   "metadata": {},
   "outputs": [],
   "source": []
  },
  {
   "cell_type": "code",
   "execution_count": null,
   "metadata": {},
   "outputs": [],
   "source": [
    "dat = np.array([[10, 1, 1.8],[14, 2, 4],[12, 3, 2]])"
   ]
  },
  {
   "cell_type": "code",
   "execution_count": null,
   "metadata": {},
   "outputs": [],
   "source": [
    "dat = np.array([[10, 1, 1.8],[14, 2, 4],[12, 3, 2]])\n",
    "assert np.array_equal(get_highest_power_osc(dat),[12, 3, 2])"
   ]
  },
  {
   "cell_type": "code",
   "execution_count": null,
   "metadata": {},
   "outputs": [],
   "source": [
    "dat = np.array([[10, 1, 1.8],[14, 2, 4]])\n",
    "assert np.array_equal(get_band_osc(dat,[10, 12]),[10, 1, 1.8])\n",
    "assert np.all(np.isnan(get_band_osc(dat, [4, 8]))) \n",
    "assert np.array_equal(get_band_osc(dat, [10, 14], ret_one=False),[[10, 1, 1.8],[14, 2, 4]])"
   ]
  },
  {
   "cell_type": "code",
   "execution_count": null,
   "metadata": {
    "scrolled": true
   },
   "outputs": [],
   "source": [
    "for i, ch_dat in enumerate(fg.group_results):\n",
    "    fooof_results[i,:] = get_band_osc(ch_dat.oscillations_params, [8, 12])"
   ]
  },
  {
   "cell_type": "code",
   "execution_count": null,
   "metadata": {},
   "outputs": [],
   "source": [
    "fooof_results.shape"
   ]
  },
  {
   "cell_type": "code",
   "execution_count": null,
   "metadata": {},
   "outputs": [],
   "source": [
    "cfs = fooof_results[:, 0]\n",
    "amps = fooof_results[:, 1]\n",
    "bws = fooof_results[:,2]"
   ]
  },
  {
   "cell_type": "code",
   "execution_count": null,
   "metadata": {
    "scrolled": true
   },
   "outputs": [],
   "source": [
    "cfs"
   ]
  },
  {
   "cell_type": "code",
   "execution_count": null,
   "metadata": {
    "scrolled": true
   },
   "outputs": [],
   "source": [
    "amps"
   ]
  },
  {
   "cell_type": "code",
   "execution_count": null,
   "metadata": {},
   "outputs": [],
   "source": [
    "bws"
   ]
  },
  {
   "cell_type": "code",
   "execution_count": null,
   "metadata": {},
   "outputs": [],
   "source": [
    "cfs = np.nan_to_num(cfs)\n",
    "amps = np.nan_to_num(amps)\n",
    "bws = np.nan_to_num(bws)"
   ]
  },
  {
   "cell_type": "code",
   "execution_count": null,
   "metadata": {},
   "outputs": [],
   "source": [
    "# Define our oscillation bands\n",
    "bands = [['Theta', [4, 8]], ['Alpha', [8, 12]]]"
   ]
  },
  {
   "cell_type": "code",
   "execution_count": null,
   "metadata": {},
   "outputs": [],
   "source": [
    "# DESIRED OUTPUT:\n",
    "#  1d array, len of n_channels with osc_band freq for each channel\n",
    "#  Note: deal with the band in channel: try out different markers for none (0, nan, etc.)"
   ]
  },
  {
   "cell_type": "markdown",
   "metadata": {},
   "source": [
    "# Mapping"
   ]
  },
  {
   "cell_type": "markdown",
   "metadata": {},
   "source": [
    " "
   ]
  },
  {
   "cell_type": "code",
   "execution_count": null,
   "metadata": {},
   "outputs": [],
   "source": [
    "montage = mne.channels.read_montage('standard_1020', epochs.ch_names[:-1])\n",
    "epochs.set_montage(montage)"
   ]
  },
  {
   "cell_type": "code",
   "execution_count": null,
   "metadata": {},
   "outputs": [],
   "source": [
    "mne.viz.plot_topomap(cfs, epochs.info, cmap=cm.viridis, contours=0);"
   ]
  },
  {
   "cell_type": "code",
   "execution_count": null,
   "metadata": {},
   "outputs": [],
   "source": [
    "mne.viz.plot_topomap(amps, epochs.info, cmap=cm.viridis, contours=0);"
   ]
  },
  {
   "cell_type": "code",
   "execution_count": null,
   "metadata": {},
   "outputs": [],
   "source": [
    "mne.viz.plot_topomap(bws, epochs.info, cmap=cm.viridis, contours=0);"
   ]
  },
  {
   "cell_type": "code",
   "execution_count": null,
   "metadata": {},
   "outputs": [],
   "source": []
  }
 ],
 "metadata": {
  "anaconda-cloud": {},
  "kernelspec": {
   "display_name": "Python 3",
   "language": "python",
   "name": "python3"
  },
  "language_info": {
   "codemirror_mode": {
    "name": "ipython",
    "version": 3
   },
   "file_extension": ".py",
   "mimetype": "text/x-python",
   "name": "python",
   "nbconvert_exporter": "python",
   "pygments_lexer": "ipython3",
   "version": "3.6.4"
  }
 },
 "nbformat": 4,
 "nbformat_minor": 1
}
