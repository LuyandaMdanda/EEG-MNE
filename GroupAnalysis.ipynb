{
 "cells": [
  {
   "cell_type": "code",
   "execution_count": 2,
   "metadata": {},
   "outputs": [],
   "source": [
    "# Imports\n",
    "#%matplotlib qt\n",
    "%matplotlib inline\n",
    "\n",
    "import matplotlib.pyplot as plt\n",
    "import mne\n",
    "import os\n",
    "import numpy as np\n",
    "import math\n",
    "from scipy.stats import pearsonr\n",
    "from matplotlib import cm\n",
    "import pandas as pd\n",
    "\n",
    "from fooof import FOOOF\n",
    "from fooof import FOOOFGroup"
   ]
  },
  {
   "cell_type": "markdown",
   "metadata": {},
   "source": [
    "# To Do's - master version:\n",
    "\n",
    "### Plotting\n",
    "- Figure out how to plot topographies with nan values\n",
    "    - Use MNE masks to select which channels will be plotted\n",
    "        - Suggestion: add a check for which channels have data. Boolean select these channels & positions to pass into plotting.\n",
    "- Reorganize notebook for which parts you have to re run\n",
    "\n",
    "### Quantitative Corrs\n",
    "- Set it up to measure correlation & plot scatterplot\n",
    "    - Generally, for any band, any FOOOF feature \n",
    "        - First: set band & feature, run to see results (finish the generalization: get a scatter plot & corr)\n",
    "        - Also: add to plot Medial -> Lateral (abs)\n",
    "- Collect all R's into corr matrix\n",
    "- Bonus: plot the corr matrix as a colored plot (red/blue). Hint: plt.imshow(matrix). Extra bonus: add a colorbar. \n",
    "        \n",
    "### Per subject analysis\n",
    "- Do the same spatial correlations, per subject, collect distributions of r-vals & p-vals\n",
    "- Plot: boxplots of the R-values, across subjects\n",
    "\n",
    "### Band to Band Correlations\n",
    "- Amplitude-amplitude correlations between bands (across channels)\n",
    "- Plot: corr-matrix"
   ]
  },
  {
   "cell_type": "markdown",
   "metadata": {
    "collapsed": true
   },
   "source": [
    "# Loading information"
   ]
  },
  {
   "cell_type": "code",
   "execution_count": 3,
   "metadata": {},
   "outputs": [],
   "source": [
    "save_path = 'C:\\\\Users\\\\abc\\\\EEG-MNE\\\\'\n",
    "chan_dat = 'channel_dat.txt'\n",
    "\n",
    "chan_file = os.path.join(save_path, chan_dat)"
   ]
  },
  {
   "cell_type": "markdown",
   "metadata": {
    "collapsed": true
   },
   "source": [
    "# DATA SET UP"
   ]
  },
  {
   "cell_type": "code",
   "execution_count": 6,
   "metadata": {},
   "outputs": [],
   "source": [
    "theta_data = np.load('theta_group.npy')\n",
    "alpha_data = np.load('alpha_group.npy')\n",
    "beta_data = np.load('beta_group.npy')\n",
    "misc_data = np.load('misc_group.npy')"
   ]
  },
  {
   "cell_type": "code",
   "execution_count": 7,
   "metadata": {},
   "outputs": [
    {
     "name": "stderr",
     "output_type": "stream",
     "text": [
      "C:\\Users\\abc\\Anaconda3\\lib\\site-packages\\ipykernel_launcher.py:1: RuntimeWarning: Mean of empty slice\n",
      "  \"\"\"Entry point for launching an IPython kernel.\n",
      "C:\\Users\\abc\\Anaconda3\\lib\\site-packages\\ipykernel_launcher.py:4: RuntimeWarning: Mean of empty slice\n",
      "  after removing the cwd from sys.path.\n"
     ]
    }
   ],
   "source": [
    "flattened_theta = np.nanmean(theta_data, axis=2)\n",
    "flattened_alpha = np.nanmean(alpha_data, axis=2)\n",
    "flattened_beta = np.nanmean(beta_data, axis=2)\n",
    "flattened_misc = np.nanmean(misc_data, axis=2)"
   ]
  },
  {
   "cell_type": "code",
   "execution_count": 56,
   "metadata": {},
   "outputs": [],
   "source": [
    "# Settings - put stuff here\n",
    "group_bands = {\n",
    "    'theta' : flattened_theta,\n",
    "    'alpha' : flattened_alpha,\n",
    "    'beta' : flattened_beta,\n",
    "    'misc' : flattened_misc,\n",
    "}\n",
    "\n",
    "subject_bands = {\n",
    "    'theta' : theta_data,\n",
    "    'alpha' : alpha_data,\n",
    "    'beta' : beta_data,\n",
    "    'misc' : misc_data\n",
    "}\n",
    "# feature 0:cfs 1:amps 2:bws \n",
    "features = {\n",
    "    'CFS' : 0,\n",
    "    'AMPS' : 1,\n",
    "    'BWS' : 2,\n",
    "}"
   ]
  },
  {
   "cell_type": "markdown",
   "metadata": {
    "collapsed": true
   },
   "source": [
    "# CHANNEL SET UP"
   ]
  },
  {
   "cell_type": "code",
   "execution_count": 9,
   "metadata": {},
   "outputs": [],
   "source": [
    "# Load\n",
    "f = open(chan_file, 'r')\n",
    "ch_names = f.read().splitlines()\n",
    "f.close()\n",
    "# Plot stuff (don't have to change)\n",
    "montage = mne.channels.read_montage('standard_1020', ch_names)\n",
    "pos = montage.get_pos2d()\n",
    "# Average"
   ]
  },
  {
   "cell_type": "markdown",
   "metadata": {},
   "source": [
    "# TOPOPLOTS"
   ]
  },
  {
   "cell_type": "code",
   "execution_count": 10,
   "metadata": {},
   "outputs": [],
   "source": [
    "band = 'theta'\n",
    "feature = 'CFS'"
   ]
  },
  {
   "cell_type": "code",
   "execution_count": 107,
   "metadata": {},
   "outputs": [],
   "source": [
    "def mask_nan_array(dat):\n",
    "    return ~np.isnan(dat)\n",
    "    \n",
    "    #Masking\n",
    "    #bool_arr = [True] * len(dat)\n",
    "    ##To updated to select channels \n",
    "    ##for idx, bool_ind in enumerate(bool_arr):\n",
    "    #    if math.isnan(dat[idx]):\n",
    "    #        bool_arr[idx] = False\n",
    "    #return bool_arr"
   ]
  },
  {
   "cell_type": "code",
   "execution_count": 12,
   "metadata": {},
   "outputs": [
    {
     "data": {
      "image/png": "[encoded data removed]",
      "text/plain": [
       "<Figure size 432x288 with 1 Axes>"
      ]
     },
     "metadata": {},
     "output_type": "display_data"
    }
   ],
   "source": [
    "# Hack for selecting channels - to fix\n",
    "data = bands[band][:,features[feature]]\n",
    "masked_arr = mask_nan_array(data)\n",
    "plot = mne.viz.plot_topomap(bands[band][:,features[feature]][masked_arr], pos[masked_arr], cmap=cm.viridis, contours=0)"
   ]
  },
  {
   "cell_type": "code",
   "execution_count": 55,
   "metadata": {},
   "outputs": [
    {
     "ename": "NameError",
     "evalue": "name 'mpl' is not defined",
     "output_type": "error",
     "traceback": [
      "\u001b[1;31m---------------------------------------------------------------------------\u001b[0m",
      "\u001b[1;31mNameError\u001b[0m                                 Traceback (most recent call last)",
      "\u001b[1;32m<ipython-input-55-469150b854a7>\u001b[0m in \u001b[0;36m<module>\u001b[1;34m()\u001b[0m\n\u001b[0;32m      2\u001b[0m \u001b[1;33m\u001b[0m\u001b[0m\n\u001b[0;32m      3\u001b[0m \u001b[0mcmap\u001b[0m \u001b[1;33m=\u001b[0m \u001b[0mcm\u001b[0m\u001b[1;33m.\u001b[0m\u001b[0mviridis\u001b[0m\u001b[1;33m\u001b[0m\u001b[0m\n\u001b[1;32m----> 4\u001b[1;33m \u001b[0mnorm\u001b[0m \u001b[1;33m=\u001b[0m \u001b[0mmpl\u001b[0m\u001b[1;33m.\u001b[0m\u001b[0mcolors\u001b[0m\u001b[1;33m.\u001b[0m\u001b[0mNormalize\u001b[0m\u001b[1;33m(\u001b[0m\u001b[0mvmin\u001b[0m\u001b[1;33m=\u001b[0m\u001b[0mbands\u001b[0m\u001b[1;33m[\u001b[0m\u001b[0mband\u001b[0m\u001b[1;33m]\u001b[0m\u001b[1;33m[\u001b[0m\u001b[1;33m:\u001b[0m\u001b[1;33m,\u001b[0m\u001b[0mfeatures\u001b[0m\u001b[1;33m[\u001b[0m\u001b[0mfeature\u001b[0m\u001b[1;33m]\u001b[0m\u001b[1;33m]\u001b[0m\u001b[1;33m.\u001b[0m\u001b[0mmin\u001b[0m\u001b[1;33m(\u001b[0m\u001b[1;33m)\u001b[0m\u001b[1;33m,\u001b[0m \u001b[0mvmax\u001b[0m\u001b[1;33m=\u001b[0m\u001b[0mbands\u001b[0m\u001b[1;33m[\u001b[0m\u001b[0mband\u001b[0m\u001b[1;33m]\u001b[0m\u001b[1;33m[\u001b[0m\u001b[1;33m:\u001b[0m\u001b[1;33m,\u001b[0m\u001b[0mfeatures\u001b[0m\u001b[1;33m[\u001b[0m\u001b[0mfeature\u001b[0m\u001b[1;33m]\u001b[0m\u001b[1;33m]\u001b[0m\u001b[1;33m.\u001b[0m\u001b[0mmax\u001b[0m\u001b[1;33m(\u001b[0m\u001b[1;33m)\u001b[0m\u001b[1;33m)\u001b[0m\u001b[1;33m\u001b[0m\u001b[0m\n\u001b[0m\u001b[0;32m      5\u001b[0m \u001b[0mcb\u001b[0m \u001b[1;33m=\u001b[0m \u001b[0mmpl\u001b[0m\u001b[1;33m.\u001b[0m\u001b[0mcolorbar\u001b[0m\u001b[1;33m.\u001b[0m\u001b[0mColorbarBase\u001b[0m\u001b[1;33m(\u001b[0m\u001b[0mplt\u001b[0m\u001b[1;33m.\u001b[0m\u001b[0mgca\u001b[0m\u001b[1;33m(\u001b[0m\u001b[1;33m)\u001b[0m\u001b[1;33m,\u001b[0m \u001b[0mcmap\u001b[0m\u001b[1;33m=\u001b[0m\u001b[0mcmap\u001b[0m\u001b[1;33m,\u001b[0m \u001b[0mnorm\u001b[0m\u001b[1;33m=\u001b[0m\u001b[0mnorm\u001b[0m\u001b[1;33m,\u001b[0m \u001b[0morientation\u001b[0m\u001b[1;33m=\u001b[0m\u001b[1;34m'vertical'\u001b[0m\u001b[1;33m)\u001b[0m\u001b[1;33m\u001b[0m\u001b[0m\n",
      "\u001b[1;31mNameError\u001b[0m: name 'mpl' is not defined"
     ]
    },
    {
     "data": {
      "text/plain": [
       "<Figure size 72x216 with 0 Axes>"
      ]
     },
     "metadata": {},
     "output_type": "display_data"
    }
   ],
   "source": [
    "fig = plt.figure(figsize=(1, 3))\n",
    "\n",
    "cmap = cm.viridis\n",
    "norm = mpl.colors.Normalize(vmin=bands[band][:,features[feature]].min(), vmax=bands[band][:,features[feature]].max())\n",
    "cb = mpl.colorbar.ColorbarBase(plt.gca(), cmap=cmap, norm=norm, orientation='vertical')"
   ]
  },
  {
   "cell_type": "markdown",
   "metadata": {},
   "source": [
    "# SPATIAL CORRELATIONS: Position & Band Features"
   ]
  },
  {
   "cell_type": "code",
   "execution_count": null,
   "metadata": {},
   "outputs": [],
   "source": [
    "# Correlations & Plots\n",
    "# Average feature value at each channel\n",
    "# For posterior -> anterior\n",
    "# Check: left -> right\n",
    "# Check: Medial -> lateral"
   ]
  },
  {
   "cell_type": "code",
   "execution_count": 61,
   "metadata": {},
   "outputs": [],
   "source": [
    "dat = group_bands[band][:,features[feature]]"
   ]
  },
  {
   "cell_type": "code",
   "execution_count": 62,
   "metadata": {},
   "outputs": [
    {
     "data": {
      "text/plain": [
       "array([ 1.51744925,  6.03170063,  1.03653621,  2.6882011 ,  1.36458482,\n",
       "        2.41241696,  1.71994759,  1.87026367,         nan,  2.26102409,\n",
       "        2.89403444,  0.5362047 ,         nan,  2.82744428,  3.99701087,\n",
       "               nan,  2.85716867,  3.3403712 ,  1.88630213,         nan,\n",
       "        1.84423028,  4.79710641,  3.24113225,         nan,         nan,\n",
       "               nan,         nan,  1.29663444,  2.50064408,  1.59598471,\n",
       "               nan,         nan, 10.99520996,  1.60272282,  1.48571247,\n",
       "        5.26859079,  2.99731358,  1.54220367,  1.63661353,  3.42469812,\n",
       "               nan,  0.8512408 ,  1.65528291,  2.33621067,  1.99869542,\n",
       "        3.47826625,  4.07992055,  1.90142849,         nan,         nan,\n",
       "               nan,         nan,  1.79259609,         nan,         nan,\n",
       "               nan,         nan,         nan,         nan,         nan,\n",
       "               nan,         nan,         nan,  2.00210169])"
      ]
     },
     "execution_count": 62,
     "metadata": {},
     "output_type": "execute_result"
    }
   ],
   "source": [
    "dat"
   ]
  },
  {
   "cell_type": "markdown",
   "metadata": {},
   "source": [
    "# Scatter plots\n"
   ]
  },
  {
   "cell_type": "code",
   "execution_count": 15,
   "metadata": {
    "scrolled": true
   },
   "outputs": [
    {
     "data": {
      "text/plain": [
       "<matplotlib.collections.PathCollection at 0x28398a82908>"
      ]
     },
     "execution_count": 15,
     "metadata": {},
     "output_type": "execute_result"
    },
    {
     "data": {
      "image/png": "[encoded data removed]",
      "text/plain": [
       "<Figure size 432x288 with 1 Axes>"
      ]
     },
     "metadata": {},
     "output_type": "display_data"
    }
   ],
   "source": [
    "plt.scatter(pos[:, 0], dat)\n",
    "# left to right"
   ]
  },
  {
   "cell_type": "code",
   "execution_count": 16,
   "metadata": {
    "scrolled": true
   },
   "outputs": [
    {
     "data": {
      "text/plain": [
       "<matplotlib.collections.PathCollection at 0x28398d14748>"
      ]
     },
     "execution_count": 16,
     "metadata": {},
     "output_type": "execute_result"
    },
    {
     "data": {
      "image/png": "[encoded data removed]",
      "text/plain": [
       "<Figure size 432x288 with 1 Axes>"
      ]
     },
     "metadata": {},
     "output_type": "display_data"
    }
   ],
   "source": [
    "plt.scatter(pos[:, 1], dat)\n",
    "# posterior to anterior"
   ]
  },
  {
   "cell_type": "code",
   "execution_count": 31,
   "metadata": {},
   "outputs": [],
   "source": [
    "mask_nan_array??"
   ]
  },
  {
   "cell_type": "code",
   "execution_count": 37,
   "metadata": {},
   "outputs": [],
   "source": [
    "def mask_nan_array(dat):\n",
    "    #Masking\n",
    "    bool_arr = [True] * len(dat)\n",
    "    #To updated to select channels \n",
    "    for idx, bool_ind in enumerate(bool_arr):\n",
    "        if math.isnan(bands[band][:,features[feature]][idx]):\n",
    "            bool_arr[idx] = False\n",
    "    return bool_arr"
   ]
  },
  {
   "cell_type": "code",
   "execution_count": 40,
   "metadata": {
    "scrolled": true
   },
   "outputs": [
    {
     "data": {
      "text/plain": [
       "0.3776274563081587"
      ]
     },
     "execution_count": 40,
     "metadata": {},
     "output_type": "execute_result"
    }
   ],
   "source": [
    "pearsonr(pos[:, 1], mask_nan_array(data))[0]\n",
    "# (correlation value(r-value), p-value)"
   ]
  },
  {
   "cell_type": "code",
   "execution_count": 35,
   "metadata": {
    "scrolled": true
   },
   "outputs": [
    {
     "name": "stdout",
     "output_type": "stream",
     "text": [
      "Variable          Type             Data/Info\n",
      "--------------------------------------------\n",
      "FOOOF             type             <class 'fooof.fit.FOOOF'>\n",
      "FOOOFGroup        type             <class 'fooof.group.FOOOFGroup'>\n",
      "OscDat            type             <class '__main__.OscDat'>\n",
      "alpha_data        ndarray          64x3x13: 2496 elems, type `float64`, 19968 bytes\n",
      "band              str              misc\n",
      "bands             dict             n=4\n",
      "beta_data         ndarray          64x3x13: 2496 elems, type `float64`, 19968 bytes\n",
      "ch_names          list             n=65\n",
      "chan_dat          str              channel_dat.txt\n",
      "chan_file         str              C:\\Users\\abc\\EEG-MNE\\channel_dat.txt\n",
      "cm                module           <module 'matplotlib.cm' f<...>ages\\\\matplotlib\\\\cm.py'>\n",
      "columns           dict_keys        dict_keys(['CFS', 'AMPS', 'BWS'])\n",
      "corr_val          float64          0.14682725436644703\n",
      "dat               ndarray          64: 64 elems, type `float64`, 512 bytes\n",
      "data              ndarray          64: 64 elems, type `float64`, 512 bytes\n",
      "df                DataFrame               CFS AMPS  BWS\\nthe<...>NaN\\nmisc   NaN  NaN  NaN\n",
      "f                 TextIOWrapper    <_io.TextIOWrapper name='<...>de='r' encoding='cp1252'>\n",
      "feature           str              BWS\n",
      "features          dict             n=3\n",
      "flattened_alpha   ndarray          64x3: 192 elems, type `float64`, 1536 bytes\n",
      "flattened_beta    ndarray          64x3: 192 elems, type `float64`, 1536 bytes\n",
      "flattened_misc    ndarray          64x3: 192 elems, type `float64`, 1536 bytes\n",
      "flattened_theta   ndarray          64x3: 192 elems, type `float64`, 1536 bytes\n",
      "index             dict_keys        dict_keys(['theta', 'alpha', 'beta', 'misc'])\n",
      "mask_nan_array    function         <function mask_nan_array at 0x00000283991992F0>\n",
      "masked_arr        list             n=64\n",
      "math              module           <module 'math' (built-in)>\n",
      "misc_data         ndarray          64x3x13: 2496 elems, type `float64`, 19968 bytes\n",
      "mne               module           <module 'mne' from 'C:\\\\U<...>kages\\\\mne\\\\__init__.py'>\n",
      "montage           Montage          <Montage | standard_1020 <...>nnels: Fp1, Fp2, AF7 ...>\n",
      "np                module           <module 'numpy' from 'C:\\<...>ges\\\\numpy\\\\__init__.py'>\n",
      "os                module           <module 'os' from 'C:\\\\Us<...>\\\\Anaconda3\\\\lib\\\\os.py'>\n",
      "osc_bands         list             n=4\n",
      "pd                module           <module 'pandas' from 'C:<...>es\\\\pandas\\\\__init__.py'>\n",
      "pearsonr          function         <function pearsonr at 0x0000028396E4E378>\n",
      "plot              tuple            n=2\n",
      "plt               module           <module 'matplotlib.pyplo<...>\\\\matplotlib\\\\pyplot.py'>\n",
      "pos               ndarray          64x2: 128 elems, type `float64`, 1024 bytes\n",
      "row_results       list             n=0\n",
      "save_path         str              C:\\Users\\abc\\EEG-MNE\\\n",
      "temp              OscDat           <__main__.OscDat object at 0x00000283989187F0>\n",
      "theta_data        ndarray          64x3x13: 2496 elems, type `float64`, 19968 bytes\n"
     ]
    }
   ],
   "source": [
    "whos"
   ]
  },
  {
   "cell_type": "code",
   "execution_count": null,
   "metadata": {},
   "outputs": [],
   "source": [
    "# Correlation Matrix\n",
    "#  Each matrix: rows are bands, columns are FOOOF features\n",
    "#    Each value is the corr value (r) between the data of that Band & Feature to a spatial dimension\n",
    "#    There is a corr-matrix for each spatial dim\n",
    "# Bonus: plot the matrix in colours."
   ]
  },
  {
   "cell_type": "code",
   "execution_count": 111,
   "metadata": {},
   "outputs": [],
   "source": [
    "index = bands.keys()\n",
    "columns = features.keys()\n",
    "df = pd.DataFrame(index=index, columns=columns)\n",
    "\n",
    "for band in bands:\n",
    "    for feature in features:\n",
    "        data = bands[band][:,features[feature]]\n",
    "        masked_arr = mask_nan_array(data)\n",
    "        corr_val = pearsonr(pos[masked_arr, 1], data[masked_arr])[0]\n",
    "        df.loc[band, feature] = corr_val\n",
    "    \n"
   ]
  },
  {
   "cell_type": "code",
   "execution_count": 112,
   "metadata": {},
   "outputs": [
    {
     "data": {
      "text/html": [
       "<div>\n",
       "<style scoped>\n",
       "    .dataframe tbody tr th:only-of-type {\n",
       "        vertical-align: middle;\n",
       "    }\n",
       "\n",
       "    .dataframe tbody tr th {\n",
       "        vertical-align: top;\n",
       "    }\n",
       "\n",
       "    .dataframe thead th {\n",
       "        text-align: right;\n",
       "    }\n",
       "</style>\n",
       "<table border=\"1\" class=\"dataframe\">\n",
       "  <thead>\n",
       "    <tr style=\"text-align: right;\">\n",
       "      <th></th>\n",
       "      <th>CFS</th>\n",
       "      <th>AMPS</th>\n",
       "      <th>BWS</th>\n",
       "    </tr>\n",
       "  </thead>\n",
       "  <tbody>\n",
       "    <tr>\n",
       "      <th>theta</th>\n",
       "      <td>-0.1007</td>\n",
       "      <td>-0.315476</td>\n",
       "      <td>0.0912894</td>\n",
       "    </tr>\n",
       "    <tr>\n",
       "      <th>alpha</th>\n",
       "      <td>-0.00332102</td>\n",
       "      <td>-0.386144</td>\n",
       "      <td>-0.260516</td>\n",
       "    </tr>\n",
       "    <tr>\n",
       "      <th>beta</th>\n",
       "      <td>0.260128</td>\n",
       "      <td>-0.262458</td>\n",
       "      <td>-0.0134561</td>\n",
       "    </tr>\n",
       "    <tr>\n",
       "      <th>misc</th>\n",
       "      <td>-0.1256</td>\n",
       "      <td>-0.043781</td>\n",
       "      <td>-0.00907968</td>\n",
       "    </tr>\n",
       "  </tbody>\n",
       "</table>\n",
       "</div>"
      ],
      "text/plain": [
       "              CFS      AMPS         BWS\n",
       "theta     -0.1007 -0.315476   0.0912894\n",
       "alpha -0.00332102 -0.386144   -0.260516\n",
       "beta     0.260128 -0.262458  -0.0134561\n",
       "misc      -0.1256 -0.043781 -0.00907968"
      ]
     },
     "execution_count": 112,
     "metadata": {},
     "output_type": "execute_result"
    }
   ],
   "source": [
    "df"
   ]
  },
  {
   "cell_type": "markdown",
   "metadata": {},
   "source": [
    "## Spatial Correlations: Per Subject level"
   ]
  },
  {
   "cell_type": "markdown",
   "metadata": {},
   "source": [
    "Run the same correlations as above (ex. CF per channel), per subject\n",
    "Collect the distributions of R values"
   ]
  },
  {
   "cell_type": "code",
   "execution_count": 113,
   "metadata": {},
   "outputs": [
    {
     "data": {
      "text/plain": [
       "(64, 3, 13)"
      ]
     },
     "execution_count": 113,
     "metadata": {},
     "output_type": "execute_result"
    }
   ],
   "source": [
    "alpha_data.shape"
   ]
  },
  {
   "cell_type": "code",
   "execution_count": 114,
   "metadata": {},
   "outputs": [
    {
     "data": {
      "text/plain": [
       "(64, 13)"
      ]
     },
     "execution_count": 114,
     "metadata": {},
     "output_type": "execute_result"
    }
   ],
   "source": [
    "a_cf.shape"
   ]
  },
  {
   "cell_type": "code",
   "execution_count": 128,
   "metadata": {},
   "outputs": [
    {
     "data": {
      "text/plain": [
       "(64, 2)"
      ]
     },
     "execution_count": 128,
     "metadata": {},
     "output_type": "execute_result"
    }
   ],
   "source": [
    "pos.shape"
   ]
  },
  {
   "cell_type": "code",
   "execution_count": 124,
   "metadata": {},
   "outputs": [],
   "source": [
    "rs = []; ps = []\n",
    "a_cf = subject_bands['beta'][:,features['AMPS']]\n",
    "for si in range(13):\n",
    "    masked_arr = mask_nan_array(a_cf[:,si])\n",
    "    rs.append(pearsonr(pos[masked_arr, 1], a_cf[:,si][masked_arr])[0])\n",
    "    #print(pearsonr(pos[masked_arr, 0], a_cf[masked_arr])[0])\n",
    "    #ps[si]= pearsonr(pos[masked_arr, 0], data[masked_arr])[1]"
   ]
  },
  {
   "cell_type": "code",
   "execution_count": 125,
   "metadata": {},
   "outputs": [
    {
     "data": {
      "text/plain": [
       "[-0.14958870386321044,\n",
       " -0.008575676425475564,\n",
       " 0.10381479440326057,\n",
       " -0.20185455926785434,\n",
       " 0.14490711325615782,\n",
       " -0.27214329392419384,\n",
       " -0.4399675480164057,\n",
       " -0.29833047649322286,\n",
       " -0.037762681827077774,\n",
       " -0.31233703730494305,\n",
       " -0.03145137382254938,\n",
       " -0.18155513690930744,\n",
       " -0.3063390163156258]"
      ]
     },
     "execution_count": 125,
     "metadata": {},
     "output_type": "execute_result"
    }
   ],
   "source": [
    "rs"
   ]
  },
  {
   "cell_type": "code",
   "execution_count": 126,
   "metadata": {},
   "outputs": [
    {
     "data": {
      "image/png": "[encoded data removed]",
      "text/plain": [
       "<Figure size 432x288 with 1 Axes>"
      ]
     },
     "metadata": {},
     "output_type": "display_data"
    }
   ],
   "source": [
    "plt.boxplot(rs);"
   ]
  },
  {
   "cell_type": "markdown",
   "metadata": {},
   "source": [
    "# Spatial Correlations Between Bands"
   ]
  },
  {
   "cell_type": "code",
   "execution_count": null,
   "metadata": {},
   "outputs": [],
   "source": [
    "d1 = dat = bands['alpha'][:,features['AMPS']]\n",
    "d2 = dat = bands['beta'][:,features['AMPS']]"
   ]
  },
  {
   "cell_type": "code",
   "execution_count": null,
   "metadata": {},
   "outputs": [],
   "source": [
    "pearsonr(d1, d2)"
   ]
  },
  {
   "cell_type": "code",
   "execution_count": null,
   "metadata": {},
   "outputs": [],
   "source": [
    "th = [nan, 1, 1, nan]\n",
    "al  = [1.3, 1.2, 1.5, 1.4]\n",
    "#make boolean array so that you ma th's 1 and 1 with al's 1.2 1.2\n",
    "#onces extracted -> index position in reference to origial array doesnt matter\n",
    "#if a value at index n for "
   ]
  }
 ],
 "metadata": {
  "kernelspec": {
   "display_name": "Python 3",
   "language": "python",
   "name": "python3"
  },
  "language_info": {
   "codemirror_mode": {
    "name": "ipython",
    "version": 3
   },
   "file_extension": ".py",
   "mimetype": "text/x-python",
   "name": "python",
   "nbconvert_exporter": "python",
   "pygments_lexer": "ipython3",
   "version": "3.6.4"
  }
 },
 "nbformat": 4,
 "nbformat_minor": 2
}
