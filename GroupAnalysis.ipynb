{
 "cells": [
  {
   "cell_type": "code",
   "execution_count": 186,
   "metadata": {
    "collapsed": true
   },
   "outputs": [],
   "source": [
    "# Imports\n",
    "#%matplotlib qt\n",
    "%matplotlib inline\n",
    "\n",
    "import matplotlib.pyplot as plt\n",
    "import mne\n",
    "import os\n",
    "import numpy as np\n",
    "import math\n",
    "from scipy.stats import pearsonr\n",
    "from matplotlib import cm\n",
    "\n",
    "from fooof import FOOOF\n",
    "from fooof import FOOOFGroup"
   ]
  },
  {
   "cell_type": "markdown",
   "metadata": {},
   "source": [
    "# To Do's - master version:\n",
    "\n",
    "### Plotting\n",
    "- Figure out how to plot topographies with nan values\n",
    "    - Use MNE masks to select which channels will be plotted\n",
    "        - Suggestion: add a check for which channels have data. Boolean select these channels & positions to pass into plotting.\n",
    "- Reorganize notebook for which parts you have to re run\n",
    "\n",
    "### Quantitative Corrs\n",
    "- Set it up to measure correlation & plot scatterplot\n",
    "    - Generally, for any band, any FOOOF feature \n",
    "        - First: set band & feature, run to see results (finish the generalization: get a scatter plot & corr)\n",
    "        - Also: add to plot Medial -> Lateral (abs)\n",
    "- Collect all R's into corr matrix\n",
    "- Bonus: plot the corr matrix as a colored plot (red/blue). Hint: plt.imshow(matrix). Extra bonus: add a colorbar. \n",
    "        \n",
    "### Per subject analysis\n",
    "- Do the same spatial correlations, per subject, collect distributions of r-vals & p-vals\n",
    "- Plot: boxplots of the R-values, across subjects\n",
    "\n",
    "### Band to Band Correlations\n",
    "- Amplitude-amplitude correlations between bands (across channels)\n",
    "- Plot: corr-matrix"
   ]
  },
  {
   "cell_type": "code",
   "execution_count": null,
   "metadata": {
    "collapsed": true
   },
   "outputs": [],
   "source": [
    "# LOAD STUFF"
   ]
  },
  {
   "cell_type": "code",
   "execution_count": 138,
   "metadata": {
    "collapsed": true
   },
   "outputs": [],
   "source": [
    "save_path = '/Users/luyandamdanda/Research/Results'\n",
    "chan_dat = 'channel_dat.txt'\n",
    "\n",
    "chan_file = os.path.join(save_path, chan_dat)"
   ]
  },
  {
   "cell_type": "code",
   "execution_count": 84,
   "metadata": {
    "collapsed": true
   },
   "outputs": [],
   "source": [
    "# for band in bands:\n",
    "#     band.append('_cfs') = flattened_alpha[:, 0]\n",
    "#     band.append('_amps') = flattened_alpha[:, 1]\n",
    "#     band.append('_bws')= flattened_alpha[:, 2]"
   ]
  },
  {
   "cell_type": "code",
   "execution_count": 87,
   "metadata": {
    "collapsed": true
   },
   "outputs": [],
   "source": [
    "# POTENTIAL DATA ORGANIZATION\n",
    "#  HOWEVER _ LETS NOT\n",
    "class OscDat(object):\n",
    "    \n",
    "    def __init__(self):\n",
    "        self.cf = None\n",
    "        self.amp = None\n",
    "        self.bw = None\n",
    "\n",
    "        \n",
    "osc_bands = []\n",
    "bands = ['T', 'A', 'B', 'M']\n",
    "for band in bands:\n",
    "    # Initialize\n",
    "    temp = OscDat()\n",
    "    # Add data\n",
    "    # TODO\n",
    "    # Add to lst\n",
    "    osc_bands.append(temp)"
   ]
  },
  {
   "cell_type": "code",
   "execution_count": null,
   "metadata": {
    "collapsed": true
   },
   "outputs": [],
   "source": [
    "# DATA SET UP"
   ]
  },
  {
   "cell_type": "code",
   "execution_count": 88,
   "metadata": {
    "collapsed": true
   },
   "outputs": [],
   "source": [
    "theta_data = np.load('theta_group.npy')\n",
    "alpha_data = np.load('alpha_group.npy')\n",
    "beta_data = np.load('beta_group.npy')\n",
    "misc_data = np.load('misc_group.npy')"
   ]
  },
  {
   "cell_type": "code",
   "execution_count": 93,
   "metadata": {},
   "outputs": [
    {
     "name": "stderr",
     "output_type": "stream",
     "text": [
      "/Users/luyandamdanda/anaconda/envs/py3/lib/python3.6/site-packages/ipykernel_launcher.py:1: RuntimeWarning: Mean of empty slice\n",
      "  \"\"\"Entry point for launching an IPython kernel.\n",
      "/Users/luyandamdanda/anaconda/envs/py3/lib/python3.6/site-packages/ipykernel_launcher.py:4: RuntimeWarning: Mean of empty slice\n",
      "  after removing the cwd from sys.path.\n"
     ]
    }
   ],
   "source": [
    "flattened_theta = np.nanmean(theta_data, axis=2)\n",
    "flattened_alpha = np.nanmean(alpha_data, axis=2)\n",
    "flattened_beta = np.nanmean(beta_data, axis=2)\n",
    "flattened_misc = np.nanmean(misc_data, axis=2)"
   ]
  },
  {
   "cell_type": "code",
   "execution_count": 139,
   "metadata": {
    "collapsed": true
   },
   "outputs": [],
   "source": [
    "# Settings - put stuff here\n",
    "bands = {\n",
    "    'theta' : flattened_theta,\n",
    "    'alpha' : flattened_alpha,\n",
    "    'beta' : flattened_beta,\n",
    "    'misc' : flattened_misc,\n",
    "}\n",
    "# feature 0:cfs 1:amps 2:bws \n",
    "features = {\n",
    "    'CFS' : 0,\n",
    "    'AMPS' : 1,\n",
    "    'BWS' : 2,\n",
    "}"
   ]
  },
  {
   "cell_type": "code",
   "execution_count": null,
   "metadata": {
    "collapsed": true
   },
   "outputs": [],
   "source": [
    "# CHANNEL SET UP"
   ]
  },
  {
   "cell_type": "code",
   "execution_count": null,
   "metadata": {
    "collapsed": true
   },
   "outputs": [],
   "source": [
    "# Load\n",
    "f = open(chan_file, 'r')\n",
    "ch_names = f.read().splitlines()\n",
    "f.close()\n",
    "# Plot stuff (don't have to change)\n",
    "montage = mne.channels.read_montage('standard_1020', ch_names)\n",
    "pos = montage.get_pos2d()\n",
    "# Average"
   ]
  },
  {
   "cell_type": "markdown",
   "metadata": {},
   "source": [
    "# TOPOPLOTS"
   ]
  },
  {
   "cell_type": "code",
   "execution_count": 211,
   "metadata": {
    "collapsed": true
   },
   "outputs": [],
   "source": [
    "band = 'theta'\n",
    "feature = 'CFS'"
   ]
  },
  {
   "cell_type": "code",
   "execution_count": null,
   "metadata": {
    "collapsed": true
   },
   "outputs": [],
   "source": []
  },
  {
   "cell_type": "code",
   "execution_count": null,
   "metadata": {
    "collapsed": true
   },
   "outputs": [],
   "source": [
    "def mask_nan_array(dat, pos):\n",
    "    #Masking\n",
    "    bool_arr = [True] * len(pos)\n",
    "    #To updated to select channels \n",
    "    for idx, bool_ind in enumerate(bool_arr):\n",
    "        if math.isnan(bands[band][:,features[feature]][idx]):\n",
    "            bool_arr[idx] = False\n",
    "    return m_dat, m_pos"
   ]
  },
  {
   "cell_type": "code",
   "execution_count": 213,
   "metadata": {
    "collapsed": true
   },
   "outputs": [],
   "source": [
    "#Masking\n",
    "bool_arr = [True] * len(pos)\n",
    "#To updated to select channels \n",
    "for idx, bool_ind in enumerate(bool_arr):\n",
    "    if math.isnan(bands[band][:,features[feature]][idx]):\n",
    "        bool_arr[idx] = False"
   ]
  },
  {
   "cell_type": "code",
   "execution_count": 204,
   "metadata": {},
   "outputs": [
    {
     "data": {
      "image/png": "[encoded data removed]",
      "text/plain": [
       "<matplotlib.figure.Figure at 0x1c1bd0fa58>"
      ]
     },
     "metadata": {},
     "output_type": "display_data"
    }
   ],
   "source": [
    "# Hack for selecting channels - to fix\n",
    "plot = mne.viz.plot_topomap(bands[band][:,features[feature]][bool_arr], pos[bool_arr], cmap=cm.viridis, contours=0)"
   ]
  },
  {
   "cell_type": "code",
   "execution_count": 210,
   "metadata": {},
   "outputs": [
    {
     "data": {
      "image/png": "[encoded data removed]",
      "text/plain": [
       "<matplotlib.figure.Figure at 0x1c1dbbe1d0>"
      ]
     },
     "metadata": {},
     "output_type": "display_data"
    }
   ],
   "source": [
    "fig = plt.figure(figsize=(1, 3))\n",
    "\n",
    "cmap = mpl.cm.viridis\n",
    "norm = mpl.colors.Normalize(vmin=bands[band][:,features[feature]].min(), vmax=bands[band][:,features[feature]].max())\n",
    "cb = mpl.colorbar.ColorbarBase(plt.gca(), cmap=cmap, norm=norm, orientation='vertical')"
   ]
  },
  {
   "cell_type": "markdown",
   "metadata": {},
   "source": [
    "# SPATIAL CORRELATIONS: Position & Band Features"
   ]
  },
  {
   "cell_type": "code",
   "execution_count": null,
   "metadata": {
    "collapsed": true
   },
   "outputs": [],
   "source": [
    "# Correlations & Plots\n",
    "# Average feature value at each channel\n",
    "# For posterior -> anterior\n",
    "# Check: left -> right\n",
    "# Check: Medial -> lateral"
   ]
  },
  {
   "cell_type": "code",
   "execution_count": 215,
   "metadata": {
    "collapsed": true
   },
   "outputs": [],
   "source": [
    "dat = bands[band][:,features[feature]]"
   ]
  },
  {
   "cell_type": "code",
   "execution_count": 216,
   "metadata": {},
   "outputs": [
    {
     "data": {
      "text/plain": [
       "<matplotlib.collections.PathCollection at 0x1c1dcde0b8>"
      ]
     },
     "execution_count": 216,
     "metadata": {},
     "output_type": "execute_result"
    },
    {
     "data": {
      "image/png": "[encoded data removed]",
      "text/plain": [
       "<matplotlib.figure.Figure at 0x1c1ccb78d0>"
      ]
     },
     "metadata": {},
     "output_type": "display_data"
    }
   ],
   "source": [
    "# Scatter plots\n",
    "plt.scatter(pos[:, 1], dat)"
   ]
  },
  {
   "cell_type": "code",
   "execution_count": null,
   "metadata": {
    "collapsed": true
   },
   "outputs": [],
   "source": [
    "pearsonr(mask_nan_array(dat, pos))"
   ]
  },
  {
   "cell_type": "code",
   "execution_count": 217,
   "metadata": {},
   "outputs": [
    {
     "data": {
      "text/plain": [
       "(nan, 1.0)"
      ]
     },
     "execution_count": 217,
     "metadata": {},
     "output_type": "execute_result"
    }
   ],
   "source": [
    "pearsonr(pos[:, 1], dat)\n",
    "# (correlation value(r-value), p-value)"
   ]
  },
  {
   "cell_type": "code",
   "execution_count": 147,
   "metadata": {},
   "outputs": [
    {
     "data": {
      "text/plain": [
       "[<matplotlib.lines.Line2D at 0x1c1c8f02b0>]"
      ]
     },
     "execution_count": 147,
     "metadata": {},
     "output_type": "execute_result"
    },
    {
     "data": {
      "image/png": "[encoded data removed]",
      "text/plain": [
       "<matplotlib.figure.Figure at 0x1c1ccc4320>"
      ]
     },
     "metadata": {},
     "output_type": "display_data"
    }
   ],
   "source": [
    "plt.plot(pos[:, 0], pos[:, 1], '.')\n",
    "#0 - x -> left to right\n",
    "#1 - y -> Posterior to anterior"
   ]
  },
  {
   "cell_type": "code",
   "execution_count": 162,
   "metadata": {},
   "outputs": [
    {
     "ename": "SyntaxError",
     "evalue": "invalid syntax (<ipython-input-162-be7de7212f7a>, line 1)",
     "output_type": "error",
     "traceback": [
      "\u001b[0;36m  File \u001b[0;32m\"<ipython-input-162-be7de7212f7a>\"\u001b[0;36m, line \u001b[0;32m1\u001b[0m\n\u001b[0;31m    np.array([[\"_\", \"CF\",\"AMPS\",\"BW\"], (['_', 'theta','alpha','beta','misc']], axis=1)\u001b[0m\n\u001b[0m                                                                            ^\u001b[0m\n\u001b[0;31mSyntaxError\u001b[0m\u001b[0;31m:\u001b[0m invalid syntax\n"
     ]
    }
   ],
   "source": [
    "np.array([[\"_\", \"CF\",\"AMPS\",\"BW\"], ['_', 'theta','alpha','be']])"
   ]
  },
  {
   "cell_type": "code",
   "execution_count": null,
   "metadata": {
    "collapsed": true
   },
   "outputs": [],
   "source": [
    "# Correlation Matrix\n",
    "#  Each matrix: rows are bands, columns are FOOOF features\n",
    "#    Each value is the corr value (r) between the data of that Band & Feature to a spatial dimension\n",
    "#    There is a corr-matrix for each spatial dim\n",
    "# Bonus: plot the matrix in colours."
   ]
  },
  {
   "cell_type": "code",
   "execution_count": null,
   "metadata": {
    "collapsed": true
   },
   "outputs": [],
   "source": []
  },
  {
   "cell_type": "markdown",
   "metadata": {},
   "source": [
    "## Spatial Correlations: Per Subject level"
   ]
  },
  {
   "cell_type": "markdown",
   "metadata": {},
   "source": [
    "Run the same correlations as above (ex. CF per channel), per subject\n",
    "Collect the distributions of R values"
   ]
  },
  {
   "cell_type": "code",
   "execution_count": null,
   "metadata": {
    "collapsed": true
   },
   "outputs": [],
   "source": [
    "alpha_data.shape\n",
    "rs = []; ps = []\n",
    "for si in range(13):\n",
    "    a_cf = alpha_data[:, 0, si]\n",
    "    print(pearsonr(a_cf, pos[:, 1]))"
   ]
  },
  {
   "cell_type": "code",
   "execution_count": 175,
   "metadata": {
    "collapsed": true
   },
   "outputs": [],
   "source": [
    "rs = [0.1, 0.2, 0.1, 0.0]"
   ]
  },
  {
   "cell_type": "code",
   "execution_count": 177,
   "metadata": {},
   "outputs": [
    {
     "data": {
      "image/png": "[encoded data removed]",
      "text/plain": [
       "<matplotlib.figure.Figure at 0x1c1c9cf748>"
      ]
     },
     "metadata": {},
     "output_type": "display_data"
    }
   ],
   "source": [
    "plt.boxplot(rs);"
   ]
  },
  {
   "cell_type": "markdown",
   "metadata": {},
   "source": [
    "# Spatial Correlations Between Bands"
   ]
  },
  {
   "cell_type": "code",
   "execution_count": 182,
   "metadata": {
    "collapsed": true
   },
   "outputs": [],
   "source": [
    "d1 = dat = bands['alpha'][:,features['AMPS']]\n",
    "d2 = dat = bands['beta'][:,features['AMPS']]"
   ]
  },
  {
   "cell_type": "code",
   "execution_count": 180,
   "metadata": {},
   "outputs": [
    {
     "data": {
      "text/plain": [
       "(0.14965112404474487, 0.23789151103575285)"
      ]
     },
     "execution_count": 180,
     "metadata": {},
     "output_type": "execute_result"
    }
   ],
   "source": [
    "pearsonr(d1, d2)"
   ]
  },
  {
   "cell_type": "code",
   "execution_count": null,
   "metadata": {
    "collapsed": true
   },
   "outputs": [],
   "source": [
    "th = [nan, 1, 1, nan]\n",
    "al  = [1.3, 1.2, 1.5, 1.4]\n",
    "#make boolean array so that you ma th's 1 and 1 with al's 1.2 1.2\n",
    "#onces extracted -> index position in reference to origial array doesnt matter\n",
    "#if a value at index n for "
   ]
  }
 ],
 "metadata": {
  "kernelspec": {
   "display_name": "Python 3",
   "language": "python",
   "name": "python3"
  },
  "language_info": {
   "codemirror_mode": {
    "name": "ipython",
    "version": 3
   },
   "file_extension": ".py",
   "mimetype": "text/x-python",
   "name": "python",
   "nbconvert_exporter": "python",
   "pygments_lexer": "ipython3",
   "version": "3.6.3"
  }
 },
 "nbformat": 4,
 "nbformat_minor": 2
}
