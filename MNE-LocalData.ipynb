{
 "cells": [
  {
   "cell_type": "code",
   "execution_count": 1,
   "metadata": {
    "collapsed": true
   },
   "outputs": [],
   "source": [
    "# Imports\n",
    "%matplotlib qt\n",
    "import mne\n",
    "import os"
   ]
  },
  {
   "cell_type": "code",
   "execution_count": 2,
   "metadata": {
    "collapsed": true
   },
   "outputs": [],
   "source": [
    "# Set up paths\n",
    "\n",
    "# This base path will need updating\n",
    "base_path = 'C:\\\\Users\\\\Luyanda Mdanda\\\\Documents\\\\Research\\\\EEG_Dat'\n",
    "\n",
    "# These should stay the same\n",
    "#subj_dat_fname = '._3502_resampled.set'\n",
    "subj_dat_fname = '3502_resampled.set'"
   ]
  },
  {
   "cell_type": "code",
   "execution_count": 7,
   "metadata": {
    "collapsed": false
   },
   "outputs": [
    {
     "name": "stdout",
     "output_type": "stream",
     "text": [
      "Events like the following will be dropped entirely: ['Sham_Pres_catch', 'StartRest', 'DECIMAL pressed', 'Fall_Pres_catch', 'EndRest'], 39 in total\n"
     ]
    },
    {
     "name": "stderr",
     "output_type": "stream",
     "text": [
      "<ipython-input-7-b204092bafe9>:6: RuntimeWarning: Events like the following will be dropped entirely: ['Sham_Pres_catch', 'StartRest', 'DECIMAL pressed', 'Fall_Pres_catch', 'EndRest'], 39 in total\n",
      "  eeg_dat = mne.io.read_raw_eeglab(full_path, event_id=ev_dict)\n"
     ]
    },
    {
     "name": "stdout",
     "output_type": "stream",
     "text": [
      "2338/3068 event codes could not be mapped to integers. Use the 'event_id' parameter to map such events manually.\n",
      "Reading C:\\Users\\Luyanda Mdanda\\Documents\\Research\\EEG_Dat\\3502_resampled.fdt\n"
     ]
    },
    {
     "name": "stderr",
     "output_type": "stream",
     "text": [
      "<ipython-input-7-b204092bafe9>:6: RuntimeWarning: 2338/3068 event codes could not be mapped to integers. Use the 'event_id' parameter to map such events manually.\n",
      "  eeg_dat = mne.io.read_raw_eeglab(full_path, event_id=ev_dict)\n"
     ]
    }
   ],
   "source": [
    "# Read in subject listed above\n",
    "\n",
    "ev_dict = {'Start Block': 1001., 'End Block': 1002.}\n",
    "# event dictionary to ensure \"Start Block\" and \"End Block\"\n",
    "\n",
    "full_path = os.path.join(base_path, subj_dat_fname)\n",
    "eeg_dat = mne.io.read_raw_eeglab(full_path, event_id=ev_dict)"
   ]
  },
  {
   "cell_type": "code",
   "execution_count": 9,
   "metadata": {
    "collapsed": false
   },
   "outputs": [
    {
     "data": {
      "text/plain": [
       "<Info | 16 non-empty fields\n",
       "    bads : 'list | 0 items\n",
       "    buffer_size_sec : 'float | 1.0\n",
       "    ch_names : 'list | Fp1, Fp2, F7, F3, Fz, F4, F8, FC5, FC1, FC2\n",
       "    chs : 'list | 65 items (EEG: 64, STIM: 1)\n",
       "    comps : 'list | 0 items\n",
       "    custom_ref_applied : 'bool | False\n",
       "    dev_head_t : 'mne.transforms.Transform | 3 items\n",
       "    events : 'list | 0 items\n",
       "    highpass : 'float | 0.0 Hz\n",
       "    hpi_meas : 'list | 0 items\n",
       "    hpi_results : 'list | 0 items\n",
       "    lowpass : 'float | 250.0 Hz\n",
       "    meas_date : 'numpy.ndarray | 1969-12-31 16:00:00\n",
       "    nchan : 'int | 65\n",
       "    projs : 'list | 0 items\n",
       "    sfreq : 'float | 500.0 Hz\n",
       "    acq_pars : 'NoneType\n",
       "    acq_stim : 'NoneType\n",
       "    ctf_head_t : 'NoneType\n",
       "    description : 'NoneType\n",
       "    dev_ctf_t : 'NoneType\n",
       "    dig : 'NoneType\n",
       "    experimenter : 'NoneType\n",
       "    file_id : 'NoneType\n",
       "    filename : 'NoneType\n",
       "    hpi_subsystem : 'NoneType\n",
       "    kit_system_id : 'NoneType\n",
       "    line_freq : 'NoneType\n",
       "    meas_id : 'NoneType\n",
       "    proj_id : 'NoneType\n",
       "    proj_name : 'NoneType\n",
       "    subject_info : 'NoneType\n",
       "    xplotter_layout : 'NoneType\n",
       ">"
      ]
     },
     "execution_count": 9,
     "metadata": {},
     "output_type": "execute_result"
    }
   ],
   "source": [
    "eeg_dat.info"
   ]
  },
  {
   "cell_type": "code",
   "execution_count": null,
   "metadata": {
    "collapsed": true
   },
   "outputs": [],
   "source": []
  }
 ],
 "metadata": {
  "kernelspec": {
   "display_name": "Python [conda root]",
   "language": "python",
   "name": "conda-root-py"
  },
  "language_info": {
   "codemirror_mode": {
    "name": "ipython",
    "version": 3
   },
   "file_extension": ".py",
   "mimetype": "text/x-python",
   "name": "python",
   "nbconvert_exporter": "python",
   "pygments_lexer": "ipython3",
   "version": "3.5.2"
  }
 },
 "nbformat": 4,
 "nbformat_minor": 1
}
